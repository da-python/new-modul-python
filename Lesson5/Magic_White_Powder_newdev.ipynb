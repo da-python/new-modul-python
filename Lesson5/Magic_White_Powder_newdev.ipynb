{
 "cells": [
  {
   "cell_type": "markdown",
   "metadata": {
    "id": "Ac5CjQ9e47xL"
   },
   "source": [
    "<a target=\"_blank\" href=\"https://colab.research.google.com/github/da-python/new-modul-python/blob/main/Lesson3/Magic_White_Powder.ipynb\">\n",
    "  <img src=\"https://colab.research.google.com/assets/colab-badge.svg\" alt=\"Open In Colab\"/>\n",
    "</a>"
   ]
  },
  {
   "cell_type": "markdown",
   "metadata": {
    "id": "bqoUM1l847xP"
   },
   "source": [
    "# Задание 1.\n",
    "\n",
    "* Вы - менеджер по продажам в нефтехимической компании. Вы ведете несколько ключевых клиентов, которые закупают продукты вашей компании. Ваша компания запускает новый продукт - \"Волшебный белый порошок\" (ВБП), который по своим свойствам похож на тот, что уже есть на рынке. Ваши клиенты предпочитают формульный подход к ценообразованию. Вам нужно предложить клиентам формулу расчета цены на ВБП. В зависимости от объемов, которые покупают клиенты, им может быть предложена скидка.\n",
    "\n",
    "\n",
    "* ВБП производиться из нефти. Один из известных способов производства предполагает что из 16 баррелей нефти сделают одну тонну ВБП, а затраты на производство в районе 400 евро."
   ]
  },
  {
   "cell_type": "markdown",
   "metadata": {
    "id": "r59UbvZj47xQ"
   },
   "source": [
    "### Что нужно сделать?\n",
    "\n",
    "\n",
    "1. Определить базовую формулу цены на заводе. То есть как бы выглядела цена на исторических данных.\n",
    "2. Отобразить на графике.\n",
    "3. Сделать расчет возможной цены по формуле для каждого из клиентов на условиях DDP (цена с доставкой). Записать все в один эксель файл, на разных листах. Каждый лист - название клиента.\n",
    "4. Предложить формулу цены каждому из клиентов на условиях DDP (цена с доставкой).\n",
    "- Создать директорию «для клиентов» и в ней сложить  файлы с расчетами.\n",
    "- Каждый клиент - отдельный файл (любой из docx, xlsx, pptx, pdf)  с именем клиента… \n",
    "\n"
   ]
  },
  {
   "cell_type": "code",
   "execution_count": null,
   "metadata": {
    "id": "r7-N1iwe47xN"
   },
   "outputs": [],
   "source": [
    "!pip install yfinance\n",
    "!pip install xlsxwriter"
   ]
  },
  {
   "cell_type": "code",
   "execution_count": null,
   "metadata": {
    "id": "Yvvr6VUr47xO"
   },
   "outputs": [],
   "source": [
    "import os\n",
    "import yfinance as yf\n",
    "import pandas as pd\n",
    "import matplotlib.pyplot as plt \n",
    "import xlsxwriter"
   ]
  },
  {
   "cell_type": "code",
   "execution_count": null,
   "metadata": {
    "colab": {
     "base_uri": "https://localhost:8080/"
    },
    "id": "62i-B9lA47xO",
    "outputId": "2a178b53-7aec-4f8c-cb6f-8297b22e6048"
   },
   "outputs": [
    {
     "output_type": "stream",
     "name": "stdout",
     "text": [
      "[*********************100%***********************]  1 of 1 completed\n",
      "[*********************100%***********************]  1 of 1 completed\n"
     ]
    }
   ],
   "source": [
    "crude_oil_ticker = \"CL=F\"\n",
    "exr_eurusd_ticker = \"EURUSD=X\"\n",
    "crude_oil = yf.download(crude_oil_ticker)\n",
    "exr = yf.download(exr_eurusd_ticker)"
   ]
  },
  {
   "cell_type": "markdown",
   "source": [],
   "metadata": {
    "id": "zwTsz9iuAO4m"
   }
  },
  {
   "cell_type": "code",
   "execution_count": null,
   "metadata": {
    "id": "w_lwNtNv47xP"
   },
   "outputs": [],
   "source": [
    "\n",
    "# Затраты на производство\n",
    "PRODUCTION_COST = 400 # (EUR)\n",
    "\n",
    "# Расходы на логистику\n",
    "EU_LOGISTIC_COST_EUR = 30 # в Европу в евро\n",
    "CN_LOGISTIC_COST_USD = 130 # в Китай в долларах\n",
    "\n",
    "# * Справочная информация по клиентам(объемы, локации, комментарии) \n",
    "customers = {\n",
    "    'Monty':{\n",
    "        'location':'EU',\n",
    "        'volumes':200,\n",
    "        'comment':'moving_average'\n",
    "    },\n",
    "    \n",
    "    'Triangle':{\n",
    "        'location':'CN',\n",
    "        'volumes': 30,\n",
    "        'comment': 'monthly'\n",
    "    },\n",
    "    'Stone':{\n",
    "        'location':'EU',\n",
    "        'volumes': 150,\n",
    "        'comment': 'moving_average'\n",
    "    },\n",
    "    'Poly':{\n",
    "        'location':'EU',\n",
    "        'volumes': 70,\n",
    "        'comment': 'monthly'\n",
    "    }\n",
    "}\n",
    "# Скидки\n",
    "discounts = {'99': 0.01, # до 100 тонн 1%\n",
    "             '299': 0.05, #  до 300 тонн 5%\n",
    "             '300': 0.1}   # больше 300 тонн 10%\n"
   ]
  },
  {
   "cell_type": "code",
   "source": [
    "df = pd.concat([crude_oil.resample('M').mean()['Close'], exr.resample('M').mean()['Close']],axis=1)\n",
    "df.columns = ['crude_oil_price', 'eureusd']\n",
    "df = df['2022-01-01':'2022-12-31']\n",
    "# Formula (16*CrudeOil + 400 ) * Discount + Logistics\n",
    "df[\"proccessing_usd\"] = df['eureusd'] * 400\n",
    "df[\"base_wpb_price_usd\"] = df[\"crude_oil_price\"]*16 + df['proccessing_usd']\n"
   ],
   "metadata": {
    "id": "CbFIlTF7GmFw"
   },
   "execution_count": null,
   "outputs": []
  },
  {
   "cell_type": "code",
   "source": [
    "def check_volume_discounts(x):\n",
    "  if 0 < x <= 99:\n",
    "    return 0.01\n",
    "  elif 99 < x <= 299:\n",
    "    return 0.05\n",
    "  elif x >= 300:\n",
    "    return 0.1"
   ],
   "metadata": {
    "id": "ph4fwt7ZNP2y"
   },
   "execution_count": null,
   "outputs": []
  },
  {
   "cell_type": "code",
   "source": [
    "print(f\" 50 {check_volume_discounts(50)}\")\n",
    "print(f\" 150 {check_volume_discounts(150)}\")\n",
    "print(f\" 350 {check_volume_discounts(350)}\")"
   ],
   "metadata": {
    "id": "ZbP6qPn7mE1-",
    "outputId": "71c27770-761c-4365-c9d5-78aad42f4b65",
    "colab": {
     "base_uri": "https://localhost:8080/"
    }
   },
   "execution_count": null,
   "outputs": [
    {
     "output_type": "stream",
     "name": "stdout",
     "text": [
      " 50 0.01\n",
      " 150 0.05\n",
      " 350 0.1\n"
     ]
    }
   ]
  },
  {
   "cell_type": "code",
   "source": [
    "\n",
    "xlfilepath = 'wbp_prices.xlsx'\n",
    "with pd.ExcelWriter(xlfilepath, engine='xlsxwriter') as writer:\n",
    "  for client_name, client_info in customers.items():\n",
    "    client_df = df.copy()\n",
    "    \n",
    "    if client_info.get('location') == 'EU':\n",
    "      client_df['logistics'] = EU_LOGISTIC_COST_EUR\n",
    "      client_df['logistics'] = client_df['eureusd'] * EU_LOGISTIC_COST_EUR\n",
    "    elif client_info.get('location') == 'CN':\n",
    "      client_df['logistics'] = CN_LOGISTIC_COST_USD\n",
    "    \n",
    "    if client_info.get('volumes'):\n",
    "      client_df['volumes'] = client_info.get('volumes')\n",
    "\n",
    "    client_df['discount'] = client_df['volumes'].apply(check_volume_discounts)\n",
    "    client_df['WBP_price_usd'] = client_df['base_wpb_price_usd'] * (1-client_df['discount']) + client_df['logistics']\n",
    "    \n",
    "    client_df['WBP_price_usd'].plot(color='red', linestyle=\"dashed\")\n",
    "    plt.title(f\"Client {client_name} WBP Price\")\n",
    "    plt.ylabel(\"USD\")\n",
    "    plt.tight_layout()\n",
    "    plt.savefig(f'{client_name}_wbp_price.png')\n",
    "    plt.close()\n",
    "\n",
    "    client_df = client_df.round(2)\n",
    "    client_df = client_df.reset_index()\n",
    "    client_df.Date = client_df.Date.dt.strftime('%B %Y')\n",
    "    \n",
    "    max_row, max_col = client_df.shape\n",
    "    client_df.to_excel(writer, sheet_name=client_name, startrow=1, header=False, index=False)\n",
    "    workbook = writer.book\n",
    "    worksheet = writer.sheets[client_name]\n",
    "    column_settings = [{'header': column} for column in client_df.columns]\n",
    "    worksheet.add_table(0, 0, max_row, max_col - 1, {'columns': column_settings})\n",
    "    worksheet.insert_image(max_row + 3, 1, f'{client_name}_wbp_price.png')\n",
    "    \n",
    "\n"
   ],
   "metadata": {
    "id": "T7lZY80_b23_"
   },
   "execution_count": null,
   "outputs": []
  },
  {
   "cell_type": "markdown",
   "metadata": {
    "id": "rh9bITOo47xQ"
   },
   "source": [
    "# Задание 2"
   ]
  },
  {
   "cell_type": "markdown",
   "metadata": {
    "id": "Vw_gwXEK47xR"
   },
   "source": [
    "Клиенты согласились на ваше предложение. \n",
    "Вам нужно сделать написать скрипт, с помощью которого можно автоматом рассчитывать цены для всех клиентов одновременно. \n",
    "Важный момент: данные для расчета скрипт должен подтягивать сам."
   ]
  },
  {
   "cell_type": "code",
   "source": [
    "clients_path = 'for_clients'\n",
    "os.makedirs(clients_path, exist_ok=True)"
   ],
   "metadata": {
    "id": "I3ZwoqS1XUGl"
   },
   "execution_count": null,
   "outputs": []
  },
  {
   "cell_type": "code",
   "source": [],
   "metadata": {
    "id": "1BguMMIib26V"
   },
   "execution_count": null,
   "outputs": []
  },
  {
   "cell_type": "code",
   "source": [],
   "metadata": {
    "id": "JXl9jJaKb29M"
   },
   "execution_count": null,
   "outputs": []
  },
  {
   "cell_type": "markdown",
   "metadata": {
    "id": "5D27yVNt47xR"
   },
   "source": [
    "# Задание 3\n",
    "\n",
    "К вам пришел новый клиент из России. Который использует продукт А и готов регулярно закупать ВБП для того, чтобы не быть привязанным к одному поставщику. Клиент готов забирать ВБП с завода самостоятельно.\n",
    "На основе тех данных, которые уже есть предложите цену новому клиенту в рублях. \n",
    "\n"
   ]
  },
  {
   "cell_type": "code",
   "execution_count": null,
   "metadata": {
    "id": "iRKgS1_W47xR"
   },
   "outputs": [],
   "source": [
    "#"
   ]
  },
  {
   "cell_type": "code",
   "execution_count": null,
   "metadata": {
    "id": "z0At_Y4M47xR"
   },
   "outputs": [],
   "source": []
  }
 ],
 "metadata": {
  "kernelspec": {
   "display_name": "Python 3 (ipykernel)",
   "language": "python",
   "name": "python3"
  },
  "language_info": {
   "codemirror_mode": {
    "name": "ipython",
    "version": 3
   },
   "file_extension": ".py",
   "mimetype": "text/x-python",
   "name": "python",
   "nbconvert_exporter": "python",
   "pygments_lexer": "ipython3",
   "version": "3.9.13"
  },
  "colab": {
   "provenance": []
  }
 },
 "nbformat": 4,
 "nbformat_minor": 0
}
