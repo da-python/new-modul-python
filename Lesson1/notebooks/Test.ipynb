{
 "cells": [
  {
   "cell_type": "code",
   "execution_count": null,
   "id": "41c7cec8",
   "metadata": {},
   "outputs": [],
   "source": [
    "print('hey')\n",
    "print('hey')"
   ]
  },
  {
   "cell_type": "code",
   "execution_count": 2,
   "id": "6a6894b5",
   "metadata": {},
   "outputs": [
    {
     "name": "stdout",
     "output_type": "stream",
     "text": [
      "\u001b[31m1.intro.ipynb\u001b[m\u001b[m      \u001b[31m6.decorator.ipynb\u001b[m\u001b[m  python_test.ipynb  \u001b[31msomefile.zip\u001b[m\u001b[m\r\n",
      "\u001b[31m2.loops.ipynb\u001b[m\u001b[m      Test.ipynb         \u001b[31msomefile.bin\u001b[m\u001b[m       \u001b[31msomefile2.zip\u001b[m\u001b[m\r\n",
      "\u001b[31m3.files.ipynb\u001b[m\u001b[m      \u001b[34m__pycache__\u001b[m\u001b[m        \u001b[31msomefile.bz2\u001b[m\u001b[m       \u001b[31msomefile_new.txt\u001b[m\u001b[m\r\n",
      "\u001b[31m4.exceptions.ipynb\u001b[m\u001b[m \u001b[31mdata.json\u001b[m\u001b[m          \u001b[31msomefile.gz\u001b[m\u001b[m        \u001b[31mvil.pkl\u001b[m\u001b[m\r\n",
      "\u001b[31m5.modul.ipynb\u001b[m\u001b[m      \u001b[31mmyscript.py\u001b[m\u001b[m        \u001b[31msomefile.txt\u001b[m\u001b[m\r\n"
     ]
    }
   ],
   "source": [
    "!ls"
   ]
  },
  {
   "cell_type": "markdown",
   "id": "7ef85996",
   "metadata": {},
   "source": [
    "# Заголовок "
   ]
  },
  {
   "cell_type": "markdown",
   "id": "faea54ad",
   "metadata": {},
   "source": [
    "* Пункт 1 \n",
    "* Пункт 2"
   ]
  },
  {
   "cell_type": "code",
   "execution_count": null,
   "id": "0459f009",
   "metadata": {},
   "outputs": [],
   "source": []
  }
 ],
 "metadata": {
  "kernelspec": {
   "display_name": "Python 3 (ipykernel)",
   "language": "python",
   "name": "python3"
  },
  "language_info": {
   "codemirror_mode": {
    "name": "ipython",
    "version": 3
   },
   "file_extension": ".py",
   "mimetype": "text/x-python",
   "name": "python",
   "nbconvert_exporter": "python",
   "pygments_lexer": "ipython3",
   "version": "3.9.13"
  }
 },
 "nbformat": 4,
 "nbformat_minor": 5
}
