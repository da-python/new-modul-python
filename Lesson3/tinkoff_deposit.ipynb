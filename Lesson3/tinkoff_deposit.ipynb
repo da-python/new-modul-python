{
 "cells": [
  {
   "cell_type": "code",
   "execution_count": 50,
   "id": "16a2b361",
   "metadata": {},
   "outputs": [],
   "source": [
    "import requests\n",
    "from bs4 import BeautifulSoup"
   ]
  },
  {
   "cell_type": "code",
   "execution_count": 51,
   "id": "a0075490",
   "metadata": {},
   "outputs": [],
   "source": [
    "url = \"https://www.tinkoff.ru/deposit/\"\n",
    "res = requests.get(url) "
   ]
  },
  {
   "cell_type": "code",
   "execution_count": 52,
   "id": "c9769a2d",
   "metadata": {},
   "outputs": [
    {
     "data": {
      "text/plain": [
       "<Response [200]>"
      ]
     },
     "execution_count": 52,
     "metadata": {},
     "output_type": "execute_result"
    }
   ],
   "source": [
    "res"
   ]
  },
  {
   "cell_type": "code",
   "execution_count": 53,
   "id": "6e139164",
   "metadata": {},
   "outputs": [],
   "source": [
    "page = res.content\n",
    "soup = BeautifulSoup(page)\n",
    "divs = soup.find_all('div')"
   ]
  },
  {
   "cell_type": "code",
   "execution_count": 54,
   "id": "bbeb00e4",
   "metadata": {},
   "outputs": [],
   "source": [
    "mydivs = soup.find_all(\"div\", {\"class\": \"ab5RV--llN\"})"
   ]
  },
  {
   "cell_type": "code",
   "execution_count": 55,
   "id": "b5e61d4b",
   "metadata": {
    "scrolled": true
   },
   "outputs": [
    {
     "data": {
      "text/plain": [
       "[<div class=\"ab5RV--llN\"><h3 class=\"abC-+lfeih abkScslYJ gbC-+lfeih jbC-+lfeih lbC-+lfeih\">Вклады и накопительные счета</h3></div>,\n",
       " <div class=\"ab5RV--llN\"><h1 class=\"abC-+lfeih abkScslYJ bbC-+lfeih jbC-+lfeih kbC-+lfeih\"></h1><p>Доход до 8,64% годовых на сбережения </p></div>,\n",
       " <div class=\"ab5RV--llN\"><div class=\"abC-+lfeih abkScslYJ ebC-+lfeih jbC-+lfeih kbC-+lfeih\"><p>Откройте вклад или накопительный счет, получайте доход, накопите на квартиру, отпуск и другие цели</p></div></div>]"
      ]
     },
     "execution_count": 55,
     "metadata": {},
     "output_type": "execute_result"
    }
   ],
   "source": [
    "mydivs"
   ]
  },
  {
   "cell_type": "code",
   "execution_count": 56,
   "id": "c5d95db5",
   "metadata": {},
   "outputs": [
    {
     "data": {
      "text/plain": [
       "'Вклады и накопительные счета'"
      ]
     },
     "execution_count": 56,
     "metadata": {},
     "output_type": "execute_result"
    }
   ],
   "source": [
    "mydivs[0].text"
   ]
  },
  {
   "cell_type": "code",
   "execution_count": 49,
   "id": "cc990ab4",
   "metadata": {},
   "outputs": [
    {
     "name": "stdout",
     "output_type": "stream",
     "text": [
      " 8,64\n"
     ]
    }
   ],
   "source": [
    "for d in mydivs:\n",
    "    if d.text.__contains__(\"Доход\"):\n",
    "        print(d.text.split(' до')[1].split('%')[0])"
   ]
  },
  {
   "cell_type": "code",
   "execution_count": null,
   "id": "8026622a",
   "metadata": {},
   "outputs": [],
   "source": []
  },
  {
   "cell_type": "code",
   "execution_count": null,
   "id": "8dd7c445",
   "metadata": {},
   "outputs": [],
   "source": []
  }
 ],
 "metadata": {
  "kernelspec": {
   "display_name": "Python 3 (ipykernel)",
   "language": "python",
   "name": "python3"
  },
  "language_info": {
   "codemirror_mode": {
    "name": "ipython",
    "version": 3
   },
   "file_extension": ".py",
   "mimetype": "text/x-python",
   "name": "python",
   "nbconvert_exporter": "python",
   "pygments_lexer": "ipython3",
   "version": "3.9.13"
  }
 },
 "nbformat": 4,
 "nbformat_minor": 5
}
