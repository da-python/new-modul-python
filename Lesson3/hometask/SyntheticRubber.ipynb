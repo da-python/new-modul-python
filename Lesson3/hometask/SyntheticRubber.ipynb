{
 "cells": [
  {
   "cell_type": "code",
   "execution_count": null,
   "metadata": {},
   "outputs": [],
   "source": [
    "# !pip install yfinance"
   ]
  },
  {
   "cell_type": "code",
   "execution_count": 27,
   "metadata": {},
   "outputs": [],
   "source": [
    "import yfinance as yf\n",
    "import pandas as pd"
   ]
  },
  {
   "cell_type": "code",
   "execution_count": 29,
   "metadata": {},
   "outputs": [],
   "source": [
    "crude_oil_ticker = \"CL=F\"\n",
    "crude_oil = yf.Ticker(crude_oil_ticker)\n",
    "hist = crude_oil.history()"
   ]
  },
  {
   "cell_type": "code",
   "execution_count": 30,
   "metadata": {},
   "outputs": [
    {
     "name": "stdout",
     "output_type": "stream",
     "text": [
      "[*********************100%***********************]  1 of 1 completed\n"
     ]
    }
   ],
   "source": [
    "data = yf.download(crude_oil_ticker)"
   ]
  },
  {
   "cell_type": "code",
   "execution_count": null,
   "metadata": {},
   "outputs": [],
   "source": []
  },
  {
   "cell_type": "markdown",
   "metadata": {},
   "source": [
    "# Задание 1.\n",
    "\n",
    "* Вы - менеджер по продажам в нефтехимической компании. Вы ведете несколько ключевых клиентов, которые закупают продукты вашей компании. Ваша компания запускает новый продукт - \"Синтетический каучук\" (СК), который по своим свойствам похож на тот, что уже есть на рынке. Ваши клиенты предпочитают формульный подход к ценообразованию. Вам нужно предложить клиентам формулу расчета цены на СК. В зависимости от объемов, которые покупают клиенты, им может быть предложена скидка.\n",
    "\n",
    "\n",
    "* СК производиться из нефти. Один из известных способов производства предполагает, что из 10 баррелей нефти сделают одну тонну СК, а затраты на производство в районе 400 евро."
   ]
  },
  {
   "cell_type": "code",
   "execution_count": 1,
   "metadata": {},
   "outputs": [],
   "source": [
    "\n",
    "# Затраты на производство\n",
    "PRODUCTION_COST = 400 # (EUR)\n",
    "\n",
    "# Расходы на логистику\n",
    "EU_LOGISTIC_COST_EUR = 30 # в Европу в евро\n",
    "CN_LOGISTIC_COST_USD = 130 # в Китай в долларах\n",
    "\n",
    "# * Справочная информация по клиентам(объемы, локации, комментарии) \n",
    "customers = {\n",
    "    'Сonty':{\n",
    "        'location':'EU',\n",
    "        'volumes':200,\n",
    "        'comment':'moving_average'\n",
    "    },\n",
    "    \n",
    "    'Triangle':{\n",
    "        'location':'CN',\n",
    "        'volumes': 30,\n",
    "        'comment': 'monthly'\n",
    "    },\n",
    "    'Stone':{\n",
    "        'location':'EU',\n",
    "        'volumes': 150,\n",
    "        'comment': 'moving_average'\n",
    "    },\n",
    "    'Ant':{\n",
    "        'location':'EU',\n",
    "        'volumes': 70,\n",
    "        'comment': 'monthly'\n",
    "    }\n",
    "}\n",
    "# Скидки\n",
    "discounts = {'99': 0.01, # до 100 тонн 1%\n",
    "             '299': 0.05, #  до 300 тонн 5%\n",
    "             '300': 0.1}   # больше 300 тонн 10%\n"
   ]
  },
  {
   "cell_type": "markdown",
   "metadata": {},
   "source": [
    "### Что нужно сделать?\n",
    "\n",
    "1. Определить базовую формулу цены на заводе. То есть как бы выглядела цена на исторических данных. \n",
    "* Важно, чтобы цена покрывала расходы на производство и при этом была в рынке, то есть на уровне натурального каучука или с небольшим дисконтом, котировки на который можно взять с сайта http://www3.lgm.gov.my/mre/MonthlyPrices.aspx (в центах за килограм). Можно перевести в доллары за тонну.\n",
    "2. Отобразить на графике.\n",
    "3. Сделать расчет возможной цены по формуле для каждого из клиентов на условиях DDP (цена с доставкой). Записать все в один эксель файл, на разных листах. Каждый лист - название клиента.\n",
    "4. Предложить формулу цены каждому из клиентов на условиях DDP (цена с доставкой).\n",
    "- Создать директорию «для клиентов» и в ней сложить  файлы с расчетами.\n",
    "- Каждый клиент - отдельный файл (любой из docx, xlsx, pptx, pdf)  с именем клиента… \n",
    "\n"
   ]
  },
  {
   "cell_type": "code",
   "execution_count": 2,
   "metadata": {},
   "outputs": [],
   "source": [
    "#"
   ]
  },
  {
   "cell_type": "markdown",
   "metadata": {},
   "source": [
    "# Задание 2"
   ]
  },
  {
   "cell_type": "markdown",
   "metadata": {},
   "source": [
    "Клиенты согласились на ваше предложение. \n",
    "Вам нужно сделать написать скрипт, с помощью которого можно автоматом рассчитывать цены для всех клиентов одновременно. \n",
    "Важный момент: данные для расчета скрипт должен подтягивать сам."
   ]
  },
  {
   "cell_type": "code",
   "execution_count": 3,
   "metadata": {},
   "outputs": [],
   "source": [
    "# "
   ]
  },
  {
   "cell_type": "markdown",
   "metadata": {},
   "source": [
    "# Задание 3\n",
    "\n",
    "К вам пришел новый клиент из России. Который использует продукт А и готов регулярно закупать СК для того, чтобы не быть привязанным к одному поставщику. Клиент готов забирать СК с завода самостоятельно.\n",
    "На основе тех данных, которые уже есть предложите цену новому клиенту в рублях. \n",
    "\n"
   ]
  },
  {
   "cell_type": "code",
   "execution_count": 4,
   "metadata": {},
   "outputs": [],
   "source": [
    "#"
   ]
  },
  {
   "cell_type": "code",
   "execution_count": null,
   "metadata": {},
   "outputs": [],
   "source": []
  }
 ],
 "metadata": {
  "kernelspec": {
   "display_name": "Python 3 (ipykernel)",
   "language": "python",
   "name": "python3"
  },
  "language_info": {
   "codemirror_mode": {
    "name": "ipython",
    "version": 3
   },
   "file_extension": ".py",
   "mimetype": "text/x-python",
   "name": "python",
   "nbconvert_exporter": "python",
   "pygments_lexer": "ipython3",
   "version": "3.9.13"
  }
 },
 "nbformat": 4,
 "nbformat_minor": 2
}
