{
 "cells": [
  {
   "cell_type": "markdown",
   "metadata": {},
   "source": [
    "<a target=\"_blank\" href=\"https://colab.research.google.com/github/da-python/new-modul-python/blob/main/Lesson3/fuels.ipynb\">\n",
    "  <img src=\"https://colab.research.google.com/assets/colab-badge.svg\" alt=\"Open In Colab\"/>\n",
    "</a>"
   ]
  },
  {
   "cell_type": "code",
   "execution_count": 2,
   "metadata": {},
   "outputs": [],
   "source": [
    "import pandas as pd\n",
    "import requests\n",
    "from tqdm.auto import tqdm\n",
    "from collections import defaultdict"
   ]
  },
  {
   "cell_type": "code",
   "execution_count": 3,
   "metadata": {},
   "outputs": [],
   "source": [
    "url = \"https://www.rosneft-azs.ru/\"\n",
    "r = requests.get(url)"
   ]
  },
  {
   "cell_type": "code",
   "execution_count": 6,
   "metadata": {},
   "outputs": [],
   "source": [
    "# r.text"
   ]
  },
  {
   "cell_type": "code",
   "execution_count": 7,
   "metadata": {},
   "outputs": [],
   "source": [
    "headers = {'X-Requested-With': 'XMLHttpRequest'}\n",
    "payload = ({'region':'77'})\n",
    "url = 'http://www.rosneft-azs.ru/map_search'\n",
    "r = requests.post(url, data=payload, headers=headers)"
   ]
  },
  {
   "cell_type": "code",
   "execution_count": 5,
   "metadata": {},
   "outputs": [],
   "source": []
  },
  {
   "cell_type": "code",
   "execution_count": 8,
   "metadata": {},
   "outputs": [],
   "source": [
    "res = r.json()"
   ]
  },
  {
   "cell_type": "code",
   "execution_count": 10,
   "metadata": {},
   "outputs": [
    {
     "data": {
      "text/plain": [
       "dict_keys(['stations', 'region_name', 'region_code'])"
      ]
     },
     "execution_count": 10,
     "metadata": {},
     "output_type": "execute_result"
    }
   ],
   "source": [
    "res.keys()"
   ]
  },
  {
   "cell_type": "code",
   "execution_count": 12,
   "metadata": {},
   "outputs": [
    {
     "data": {
      "text/plain": [
       "77"
      ]
     },
     "execution_count": 12,
     "metadata": {},
     "output_type": "execute_result"
    }
   ],
   "source": [
    "# res.get('region_code')"
   ]
  },
  {
   "cell_type": "code",
   "execution_count": 13,
   "metadata": {},
   "outputs": [],
   "source": [
    "stations = res['stations']"
   ]
  },
  {
   "cell_type": "code",
   "execution_count": 15,
   "metadata": {},
   "outputs": [],
   "source": [
    "# len(stations)"
   ]
  },
  {
   "cell_type": "code",
   "execution_count": 84,
   "metadata": {},
   "outputs": [],
   "source": [
    "# stations[0] "
   ]
  },
  {
   "cell_type": "code",
   "execution_count": 19,
   "metadata": {},
   "outputs": [],
   "source": [
    "pd.set_option('display.max_columns', 500)"
   ]
  },
  {
   "cell_type": "code",
   "execution_count": 21,
   "metadata": {},
   "outputs": [],
   "source": [
    "df = pd.json_normalize(stations)"
   ]
  },
  {
   "cell_type": "code",
   "execution_count": 26,
   "metadata": {},
   "outputs": [],
   "source": [
    "# df.head(3)"
   ]
  },
  {
   "cell_type": "code",
   "execution_count": null,
   "metadata": {},
   "outputs": [],
   "source": []
  },
  {
   "cell_type": "code",
   "execution_count": 10,
   "metadata": {},
   "outputs": [],
   "source": [
    "url = 'http://www.rosneft-azs.ru/map_search'"
   ]
  },
  {
   "cell_type": "code",
   "execution_count": 52,
   "metadata": {},
   "outputs": [
    {
     "data": {
      "application/vnd.jupyter.widget-view+json": {
       "model_id": "ede46330b8864435b8ebb856cfd82288",
       "version_major": 2,
       "version_minor": 0
      },
      "text/plain": [
       "  0%|          | 0/2332 [00:00<?, ?it/s]"
      ]
     },
     "metadata": {},
     "output_type": "display_data"
    }
   ],
   "source": [
    "# Формируем словарь со списками для колонок таблицы\n",
    "# tab_dict = {'Azs':[],'Address' :[],'Price92':[],'Price95':[]}\n",
    "tab_dict = defaultdict(list)\n",
    "# Заполняем списки с помощью цикла\n",
    "for station in tqdm(stations):\n",
    "    tab_dict['Azs'].append(station['id'])\n",
    "    tab_dict['Region'].append(station['region_code'])\n",
    "    tab_dict['Address'].append(station['address'])\n",
    "    for d in station['price']:\n",
    "        if d['type'] == 92:\n",
    "            tab_dict['Price92'].append(d['price'])\n",
    "        elif d['type'] == 95:\n",
    "            tab_dict['Price95'].append(d['price'])\n",
    "        elif d['type'] == 'diesel':\n",
    "            tab_dict['PriceDiesel'].append(d['price'])\n",
    "        elif d['type'] == '95_fora':\n",
    "            tab_dict['Price95_fora'].append(d['price'])\n",
    "        elif d['type'] == '92_fora':\n",
    "            tab_dict['Price92_fora'].append(d['price'])\n",
    "        elif d['type'] == '100':\n",
    "            tab_dict['Price100'].append(d['price'])\n",
    "        \n",
    "        "
   ]
  },
  {
   "cell_type": "code",
   "execution_count": 53,
   "metadata": {},
   "outputs": [],
   "source": [
    "# 'price': [{'available': 1, 'type': 92, 'price': 48.24},\n",
    "#   {'available': 1, 'type': '92_fora', 'price': 49.84},\n",
    "#   {'available': 0, 'type': 95, 'price': 0},\n",
    "#   {'available': 1, 'type': '95_fora', 'price': 54.94},\n",
    "#   {'available': 0, 'type': '95_jet', 'price': 0},\n",
    "#   {'available': 0, 'type': 98, 'price': 0},\n",
    "#   {'available': 0, 'type': '98_fora', 'price': 0},\n",
    "#   {'available': 0, 'type': 100, 'price': 0},\n",
    "#   {'available': 0, 'type': '100_pulsar', 'price': 0},\n",
    "#   {'available': 1, 'type': 'diesel', 'price': 55.2},\n",
    "#   {'available': 0, 'type': 'diesel_fora', 'price': 0},\n",
    "#   {'available': 0, 'type': 'gas', 'price': 0},\n",
    "#   {'available': 0, 'type': 'methane', 'price': 0}],"
   ]
  },
  {
   "cell_type": "code",
   "execution_count": 54,
   "metadata": {},
   "outputs": [
    {
     "data": {
      "text/html": [
       "<div>\n",
       "<style scoped>\n",
       "    .dataframe tbody tr th:only-of-type {\n",
       "        vertical-align: middle;\n",
       "    }\n",
       "\n",
       "    .dataframe tbody tr th {\n",
       "        vertical-align: top;\n",
       "    }\n",
       "\n",
       "    .dataframe thead th {\n",
       "        text-align: right;\n",
       "    }\n",
       "</style>\n",
       "<table border=\"1\" class=\"dataframe\">\n",
       "  <thead>\n",
       "    <tr style=\"text-align: right;\">\n",
       "      <th></th>\n",
       "      <th>Azs</th>\n",
       "      <th>Region</th>\n",
       "      <th>Address</th>\n",
       "      <th>Price92</th>\n",
       "      <th>Price92_fora</th>\n",
       "      <th>Price95</th>\n",
       "      <th>Price95_fora</th>\n",
       "      <th>PriceDiesel</th>\n",
       "    </tr>\n",
       "  </thead>\n",
       "  <tbody>\n",
       "    <tr>\n",
       "      <th>0</th>\n",
       "      <td>58520</td>\n",
       "      <td>61</td>\n",
       "      <td>Ростовская обл., Мясниковский р-н, п. Чалтырь,...</td>\n",
       "      <td>48.24</td>\n",
       "      <td>49.84</td>\n",
       "      <td>0.00</td>\n",
       "      <td>54.94</td>\n",
       "      <td>55.20</td>\n",
       "    </tr>\n",
       "    <tr>\n",
       "      <th>1</th>\n",
       "      <td>58316</td>\n",
       "      <td>62</td>\n",
       "      <td>Владимирская обл., Судогодский р-н, д. Лаврово...</td>\n",
       "      <td>46.80</td>\n",
       "      <td>0.00</td>\n",
       "      <td>50.40</td>\n",
       "      <td>52.10</td>\n",
       "      <td>56.90</td>\n",
       "    </tr>\n",
       "    <tr>\n",
       "      <th>2</th>\n",
       "      <td>58519</td>\n",
       "      <td>61</td>\n",
       "      <td>Ростовская обл., г. Ростов-на-Дону, ул. 40 Лет...</td>\n",
       "      <td>48.24</td>\n",
       "      <td>0.00</td>\n",
       "      <td>52.94</td>\n",
       "      <td>54.94</td>\n",
       "      <td>55.20</td>\n",
       "    </tr>\n",
       "    <tr>\n",
       "      <th>3</th>\n",
       "      <td>58509</td>\n",
       "      <td>40</td>\n",
       "      <td>Калужская обл., г. Калуга, ул. Зерновая, 34</td>\n",
       "      <td>45.30</td>\n",
       "      <td>0.00</td>\n",
       "      <td>48.40</td>\n",
       "      <td>50.40</td>\n",
       "      <td>53.85</td>\n",
       "    </tr>\n",
       "    <tr>\n",
       "      <th>4</th>\n",
       "      <td>58511</td>\n",
       "      <td>40</td>\n",
       "      <td>Калужская обл., Боровский р-н, г. Балабаново, ...</td>\n",
       "      <td>45.30</td>\n",
       "      <td>0.00</td>\n",
       "      <td>48.55</td>\n",
       "      <td>50.55</td>\n",
       "      <td>56.85</td>\n",
       "    </tr>\n",
       "  </tbody>\n",
       "</table>\n",
       "</div>"
      ],
      "text/plain": [
       "     Azs  Region                                            Address  Price92  \\\n",
       "0  58520      61  Ростовская обл., Мясниковский р-н, п. Чалтырь,...    48.24   \n",
       "1  58316      62  Владимирская обл., Судогодский р-н, д. Лаврово...    46.80   \n",
       "2  58519      61  Ростовская обл., г. Ростов-на-Дону, ул. 40 Лет...    48.24   \n",
       "3  58509      40        Калужская обл., г. Калуга, ул. Зерновая, 34    45.30   \n",
       "4  58511      40  Калужская обл., Боровский р-н, г. Балабаново, ...    45.30   \n",
       "\n",
       "   Price92_fora  Price95  Price95_fora  PriceDiesel  \n",
       "0         49.84     0.00         54.94        55.20  \n",
       "1          0.00    50.40         52.10        56.90  \n",
       "2          0.00    52.94         54.94        55.20  \n",
       "3          0.00    48.40         50.40        53.85  \n",
       "4          0.00    48.55         50.55        56.85  "
      ]
     },
     "execution_count": 54,
     "metadata": {},
     "output_type": "execute_result"
    }
   ],
   "source": [
    "rn = pd.DataFrame.from_dict(tab_dict)\n",
    "rn.head()"
   ]
  },
  {
   "cell_type": "code",
   "execution_count": 55,
   "metadata": {},
   "outputs": [],
   "source": [
    "#"
   ]
  },
  {
   "cell_type": "code",
   "execution_count": 12,
   "metadata": {},
   "outputs": [],
   "source": [
    "# Добавить в таблицу другие виды топлива\n",
    "#----- Ваш код здесь ----"
   ]
  },
  {
   "cell_type": "code",
   "execution_count": 61,
   "metadata": {},
   "outputs": [],
   "source": [
    "# Отделить регионы от адреса АЗС\n",
    "#----- Ваш код здесь ----\n",
    "rn['RegionName']= rn.Address.apply(lambda x:x.split(',')[0])"
   ]
  },
  {
   "cell_type": "code",
   "execution_count": 85,
   "metadata": {},
   "outputs": [],
   "source": [
    "s = 'Калужская обл., Боровский р-н, г. Балабаново'"
   ]
  },
  {
   "cell_type": "code",
   "execution_count": 91,
   "metadata": {},
   "outputs": [
    {
     "data": {
      "text/plain": [
       "'Калужская обл., Боровский р-н, г. Балабаново'"
      ]
     },
     "execution_count": 91,
     "metadata": {},
     "output_type": "execute_result"
    }
   ],
   "source": []
  },
  {
   "cell_type": "code",
   "execution_count": 92,
   "metadata": {},
   "outputs": [
    {
     "name": "stdout",
     "output_type": "stream",
     "text": [
      "Калужская обл., Боровский р-н, г. Балабаново\n"
     ]
    }
   ],
   "source": [
    "print(s)"
   ]
  },
  {
   "cell_type": "code",
   "execution_count": null,
   "metadata": {},
   "outputs": [],
   "source": [
    "rn.Address.apply(lambda x:x.split(',')[0])"
   ]
  },
  {
   "cell_type": "code",
   "execution_count": 89,
   "metadata": {},
   "outputs": [
    {
     "data": {
      "text/plain": [
       "(2332, 9)"
      ]
     },
     "execution_count": 89,
     "metadata": {},
     "output_type": "execute_result"
    }
   ],
   "source": [
    "rn.shape"
   ]
  },
  {
   "cell_type": "code",
   "execution_count": 101,
   "metadata": {},
   "outputs": [
    {
     "name": "stdout",
     "output_type": "stream",
     "text": [
      "<class 'pandas.core.frame.DataFrame'>\n",
      "RangeIndex: 2332 entries, 0 to 2331\n",
      "Data columns (total 9 columns):\n",
      " #   Column        Non-Null Count  Dtype  \n",
      "---  ------        --------------  -----  \n",
      " 0   Azs           2332 non-null   int64  \n",
      " 1   Region        2332 non-null   int64  \n",
      " 2   Address       2332 non-null   object \n",
      " 3   Price92       2332 non-null   object \n",
      " 4   Price92_fora  2332 non-null   float64\n",
      " 5   Price95       2332 non-null   float64\n",
      " 6   Price95_fora  2332 non-null   float64\n",
      " 7   PriceDiesel   2332 non-null   float64\n",
      " 8   RegionName    2332 non-null   object \n",
      "dtypes: float64(4), int64(2), object(3)\n",
      "memory usage: 164.1+ KB\n"
     ]
    }
   ],
   "source": [
    "rn.info()"
   ]
  },
  {
   "cell_type": "code",
   "execution_count": 125,
   "metadata": {},
   "outputs": [
    {
     "ename": "AttributeError",
     "evalue": "'NoneType' object has no attribute 'split'",
     "output_type": "error",
     "traceback": [
      "\u001b[0;31m---------------------------------------------------------------------------\u001b[0m",
      "\u001b[0;31mAttributeError\u001b[0m                            Traceback (most recent call last)",
      "Input \u001b[0;32mIn [125]\u001b[0m, in \u001b[0;36m<cell line: 2>\u001b[0;34m()\u001b[0m\n\u001b[1;32m      1\u001b[0m new_col \u001b[38;5;241m=\u001b[39m []\n\u001b[1;32m      2\u001b[0m \u001b[38;5;28;01mfor\u001b[39;00m i \u001b[38;5;129;01min\u001b[39;00m \u001b[38;5;28mrange\u001b[39m(rn\u001b[38;5;241m.\u001b[39mshape[\u001b[38;5;241m0\u001b[39m]):\n\u001b[0;32m----> 3\u001b[0m     new_col\u001b[38;5;241m.\u001b[39mappend(\u001b[43mrn\u001b[49m\u001b[38;5;241;43m.\u001b[39;49m\u001b[43miloc\u001b[49m\u001b[43m[\u001b[49m\u001b[43mi\u001b[49m\u001b[43m,\u001b[49m\u001b[38;5;241;43m2\u001b[39;49m\u001b[43m]\u001b[49m\u001b[38;5;241;43m.\u001b[39;49m\u001b[43msplit\u001b[49m(\u001b[38;5;124m'\u001b[39m\u001b[38;5;124m,\u001b[39m\u001b[38;5;124m'\u001b[39m)[\u001b[38;5;241m0\u001b[39m])\n",
      "\u001b[0;31mAttributeError\u001b[0m: 'NoneType' object has no attribute 'split'"
     ]
    }
   ],
   "source": [
    "new_col = []\n",
    "for i in range(rn.shape[0]):\n",
    "    new_col.append(rn.iloc[i,2].split(',')[0])"
   ]
  },
  {
   "cell_type": "code",
   "execution_count": 126,
   "metadata": {},
   "outputs": [
    {
     "name": "stdout",
     "output_type": "stream",
     "text": [
      "0 2332\n"
     ]
    }
   ],
   "source": [
    "print(len(new_col), len(rn))"
   ]
  },
  {
   "cell_type": "code",
   "execution_count": 116,
   "metadata": {},
   "outputs": [],
   "source": [
    "rn['RegionName_forloop'] = new_col"
   ]
  },
  {
   "cell_type": "code",
   "execution_count": 100,
   "metadata": {},
   "outputs": [],
   "source": [
    "rn['Price92'] = rn['Price92'].astype(str)"
   ]
  },
  {
   "cell_type": "code",
   "execution_count": 122,
   "metadata": {},
   "outputs": [],
   "source": [
    "rn.iloc[0,2] = None"
   ]
  },
  {
   "cell_type": "code",
   "execution_count": null,
   "metadata": {},
   "outputs": [],
   "source": [
    "\n"
   ]
  },
  {
   "cell_type": "code",
   "execution_count": 120,
   "metadata": {},
   "outputs": [
    {
     "name": "stderr",
     "output_type": "stream",
     "text": [
      "/var/folders/rj/w306gcfn0_jcn0_ssjysxhw40000gn/T/ipykernel_3620/2454914862.py:1: SettingWithCopyWarning: \n",
      "A value is trying to be set on a copy of a slice from a DataFrame.\n",
      "Try using .loc[row_indexer,col_indexer] = value instead\n",
      "\n",
      "See the caveats in the documentation: https://pandas.pydata.org/pandas-docs/stable/user_guide/indexing.html#returning-a-view-versus-a-copy\n",
      "  rn[rn.PriceDiesel > 50]['Price95_fora'] = 0\n"
     ]
    }
   ],
   "source": [
    "rn[rn.PriceDiesel > 50]['Price95_fora'] = 0"
   ]
  },
  {
   "cell_type": "code",
   "execution_count": 121,
   "metadata": {},
   "outputs": [],
   "source": [
    "rn.loc[rn.PriceDiesel > 50, 'Price95_fora'] = 0"
   ]
  },
  {
   "cell_type": "code",
   "execution_count": null,
   "metadata": {},
   "outputs": [],
   "source": [
    "rn.loc"
   ]
  },
  {
   "cell_type": "code",
   "execution_count": 95,
   "metadata": {},
   "outputs": [],
   "source": [
    "# list(range(rn.shape[0]))"
   ]
  },
  {
   "cell_type": "code",
   "execution_count": 97,
   "metadata": {},
   "outputs": [
    {
     "data": {
      "text/plain": [
       "2332"
      ]
     },
     "execution_count": 97,
     "metadata": {},
     "output_type": "execute_result"
    }
   ],
   "source": [
    "len(rn)"
   ]
  },
  {
   "cell_type": "code",
   "execution_count": 88,
   "metadata": {},
   "outputs": [
    {
     "data": {
      "text/plain": [
       "'Калужская обл'"
      ]
     },
     "execution_count": 88,
     "metadata": {},
     "output_type": "execute_result"
    }
   ],
   "source": [
    "s.split('.,')"
   ]
  },
  {
   "cell_type": "code",
   "execution_count": 58,
   "metadata": {},
   "outputs": [],
   "source": [
    "# Выбрать АЗС из Белоруссии и сохранить в rnbelarus\n",
    "#----- Ваш код здесь ---\n",
    "# rnbelarus = rn.loc[rn.Region.isin([1001])]\n",
    "# rnbelarus"
   ]
  },
  {
   "cell_type": "code",
   "execution_count": 50,
   "metadata": {},
   "outputs": [],
   "source": [
    "# Убрать АЗС из Белоруссии из таблциы rn\n",
    "# rn = rn[~rn.Region.isin([1001])]"
   ]
  },
  {
   "cell_type": "code",
   "execution_count": 51,
   "metadata": {},
   "outputs": [
    {
     "data": {
      "text/plain": [
       "array([61, 62, 40, 77, 64, 10, 78, 23,  1, 63, 86,  0, 46, 31, 44, 50, 71,\n",
       "       76, 47, 60, 69, 57, 68, 54, 24, 42,  6, 15, 26, 73, 29, 74, 45, 66,\n",
       "       32, 67, 58, 75, 89, 48, 70, 51, 38,  3, 20, 36, 22, 19,  4,  9,  7,\n",
       "       53, 33, 52])"
      ]
     },
     "execution_count": 51,
     "metadata": {},
     "output_type": "execute_result"
    }
   ],
   "source": [
    "rn.Region.unique()"
   ]
  },
  {
   "cell_type": "code",
   "execution_count": 64,
   "metadata": {},
   "outputs": [
    {
     "data": {
      "text/html": [
       "<div>\n",
       "<style scoped>\n",
       "    .dataframe tbody tr th:only-of-type {\n",
       "        vertical-align: middle;\n",
       "    }\n",
       "\n",
       "    .dataframe tbody tr th {\n",
       "        vertical-align: top;\n",
       "    }\n",
       "\n",
       "    .dataframe thead th {\n",
       "        text-align: right;\n",
       "    }\n",
       "</style>\n",
       "<table border=\"1\" class=\"dataframe\">\n",
       "  <thead>\n",
       "    <tr style=\"text-align: right;\">\n",
       "      <th></th>\n",
       "      <th>Region</th>\n",
       "      <th>RegionName</th>\n",
       "      <th>Price92</th>\n",
       "      <th>Price92_fora</th>\n",
       "      <th>Price95</th>\n",
       "      <th>Price95_fora</th>\n",
       "      <th>PriceDiesel</th>\n",
       "    </tr>\n",
       "  </thead>\n",
       "  <tbody>\n",
       "    <tr>\n",
       "      <th>0</th>\n",
       "      <td>0</td>\n",
       "      <td>Московская область</td>\n",
       "      <td>46.50000</td>\n",
       "      <td>0.0</td>\n",
       "      <td>51.900000</td>\n",
       "      <td>53.60</td>\n",
       "      <td>0.000000</td>\n",
       "    </tr>\n",
       "    <tr>\n",
       "      <th>1</th>\n",
       "      <td>0</td>\n",
       "      <td>Ульяновская обл.</td>\n",
       "      <td>45.99000</td>\n",
       "      <td>0.0</td>\n",
       "      <td>49.850000</td>\n",
       "      <td>0.00</td>\n",
       "      <td>56.690000</td>\n",
       "    </tr>\n",
       "    <tr>\n",
       "      <th>2</th>\n",
       "      <td>0</td>\n",
       "      <td>Ханты-Мансийский (Югра) авт.о.</td>\n",
       "      <td>48.20000</td>\n",
       "      <td>0.0</td>\n",
       "      <td>50.000000</td>\n",
       "      <td>0.00</td>\n",
       "      <td>63.150000</td>\n",
       "    </tr>\n",
       "    <tr>\n",
       "      <th>3</th>\n",
       "      <td>1</td>\n",
       "      <td>Респ. Адыгея (Адыгея)</td>\n",
       "      <td>48.20000</td>\n",
       "      <td>49.8</td>\n",
       "      <td>53.070000</td>\n",
       "      <td>22.06</td>\n",
       "      <td>55.250000</td>\n",
       "    </tr>\n",
       "    <tr>\n",
       "      <th>4</th>\n",
       "      <td>3</td>\n",
       "      <td>Респ. Бурятия</td>\n",
       "      <td>48.39898</td>\n",
       "      <td>0.0</td>\n",
       "      <td>43.514286</td>\n",
       "      <td>0.00</td>\n",
       "      <td>63.614286</td>\n",
       "    </tr>\n",
       "    <tr>\n",
       "      <th>...</th>\n",
       "      <td>...</td>\n",
       "      <td>...</td>\n",
       "      <td>...</td>\n",
       "      <td>...</td>\n",
       "      <td>...</td>\n",
       "      <td>...</td>\n",
       "      <td>...</td>\n",
       "    </tr>\n",
       "    <tr>\n",
       "      <th>103</th>\n",
       "      <td>1001</td>\n",
       "      <td>Брестская обл.</td>\n",
       "      <td>2.34000</td>\n",
       "      <td>0.0</td>\n",
       "      <td>2.440000</td>\n",
       "      <td>0.00</td>\n",
       "      <td>2.440000</td>\n",
       "    </tr>\n",
       "    <tr>\n",
       "      <th>104</th>\n",
       "      <td>1001</td>\n",
       "      <td>Витебская обл.</td>\n",
       "      <td>2.34000</td>\n",
       "      <td>0.0</td>\n",
       "      <td>2.440000</td>\n",
       "      <td>0.00</td>\n",
       "      <td>2.440000</td>\n",
       "    </tr>\n",
       "    <tr>\n",
       "      <th>105</th>\n",
       "      <td>1001</td>\n",
       "      <td>Минская обл.</td>\n",
       "      <td>2.34000</td>\n",
       "      <td>0.0</td>\n",
       "      <td>2.440000</td>\n",
       "      <td>0.00</td>\n",
       "      <td>2.440000</td>\n",
       "    </tr>\n",
       "    <tr>\n",
       "      <th>106</th>\n",
       "      <td>1001</td>\n",
       "      <td>Могилевская обл.</td>\n",
       "      <td>2.34000</td>\n",
       "      <td>0.0</td>\n",
       "      <td>2.440000</td>\n",
       "      <td>0.00</td>\n",
       "      <td>2.440000</td>\n",
       "    </tr>\n",
       "    <tr>\n",
       "      <th>107</th>\n",
       "      <td>1001</td>\n",
       "      <td>г. Минск</td>\n",
       "      <td>2.34000</td>\n",
       "      <td>0.0</td>\n",
       "      <td>2.440000</td>\n",
       "      <td>0.00</td>\n",
       "      <td>2.440000</td>\n",
       "    </tr>\n",
       "  </tbody>\n",
       "</table>\n",
       "<p>108 rows × 7 columns</p>\n",
       "</div>"
      ],
      "text/plain": [
       "     Region                      RegionName   Price92  Price92_fora  \\\n",
       "0         0              Московская область  46.50000           0.0   \n",
       "1         0                Ульяновская обл.  45.99000           0.0   \n",
       "2         0  Ханты-Мансийский (Югра) авт.о.  48.20000           0.0   \n",
       "3         1           Респ. Адыгея (Адыгея)  48.20000          49.8   \n",
       "4         3                   Респ. Бурятия  48.39898           0.0   \n",
       "..      ...                             ...       ...           ...   \n",
       "103    1001                  Брестская обл.   2.34000           0.0   \n",
       "104    1001                  Витебская обл.   2.34000           0.0   \n",
       "105    1001                    Минская обл.   2.34000           0.0   \n",
       "106    1001                Могилевская обл.   2.34000           0.0   \n",
       "107    1001                        г. Минск   2.34000           0.0   \n",
       "\n",
       "       Price95  Price95_fora  PriceDiesel  \n",
       "0    51.900000         53.60     0.000000  \n",
       "1    49.850000          0.00    56.690000  \n",
       "2    50.000000          0.00    63.150000  \n",
       "3    53.070000         22.06    55.250000  \n",
       "4    43.514286          0.00    63.614286  \n",
       "..         ...           ...          ...  \n",
       "103   2.440000          0.00     2.440000  \n",
       "104   2.440000          0.00     2.440000  \n",
       "105   2.440000          0.00     2.440000  \n",
       "106   2.440000          0.00     2.440000  \n",
       "107   2.440000          0.00     2.440000  \n",
       "\n",
       "[108 rows x 7 columns]"
      ]
     },
     "execution_count": 64,
     "metadata": {},
     "output_type": "execute_result"
    }
   ],
   "source": [
    "# Расчитать средние цены на топливо по регионам\n",
    "#----- Ваш код здесь ----\n",
    "rn.groupby(['Region','RegionName'])[[x for x in rn.columns if x.startswith('Price')]].mean().reset_index()"
   ]
  },
  {
   "cell_type": "code",
   "execution_count": null,
   "metadata": {},
   "outputs": [],
   "source": [
    "# Создать директорию regional_prices\n",
    "#----- Ваш код здесь ----"
   ]
  },
  {
   "cell_type": "code",
   "execution_count": null,
   "metadata": {},
   "outputs": [],
   "source": [
    "!mkdir"
   ]
  },
  {
   "cell_type": "code",
   "execution_count": 66,
   "metadata": {},
   "outputs": [],
   "source": [
    "import os \n",
    "os.mkdir('regional_prices')"
   ]
  },
  {
   "cell_type": "code",
   "execution_count": null,
   "metadata": {},
   "outputs": [],
   "source": []
  },
  {
   "cell_type": "code",
   "execution_count": 69,
   "metadata": {},
   "outputs": [],
   "source": [
    "# Записать в отдельный .csv файл цены для каждого региона.\n",
    "# Разделить должен быть знак табуляции sep='\\t'\n",
    "# Название файла записать как название региона, заменив пробел на _\n",
    "#----- Ваш код здесь ----\n",
    "for r in rn.Region.unique():\n",
    "    fname = f\"{r}.csv\"\n",
    "    fpath = os.path.join('regional_prices', fname)\n",
    "    rn[rn.Region == r].to_csv(fpath, sep='\\t')\n"
   ]
  },
  {
   "cell_type": "code",
   "execution_count": 71,
   "metadata": {},
   "outputs": [],
   "source": [
    "# Выведите содержимое директории в переменную list_of_files\n",
    "#----- Ваш код здесь ----\n",
    "list_of_files = os.listdir('regional_prices')"
   ]
  },
  {
   "cell_type": "code",
   "execution_count": 73,
   "metadata": {},
   "outputs": [],
   "source": [
    "# list_of_files"
   ]
  },
  {
   "cell_type": "code",
   "execution_count": 75,
   "metadata": {},
   "outputs": [],
   "source": [
    "# Создайте словарь regional_prices и заполните его таким образом, чтобы\n",
    "# ключ был название файла без .csv, а значения - список строк, счиатанных из файла\n",
    "#----- Ваш код здесь ----\n",
    "regional_prices = {}\n",
    "for el in list_of_files:\n",
    "    fpath = os.path.join('regional_prices', el)\n",
    "    with open(fpath, 'r') as f: \n",
    "        regional_prices[el.split('.')[0]] = f.readlines()\n",
    "    \n",
    "    "
   ]
  },
  {
   "cell_type": "code",
   "execution_count": 83,
   "metadata": {},
   "outputs": [],
   "source": [
    "# regional_prices"
   ]
  },
  {
   "cell_type": "code",
   "execution_count": 81,
   "metadata": {},
   "outputs": [],
   "source": [
    "# Соберите таблицу rnnew из словаря regional_prices\n",
    "#----- Ваш код здесь ----\n",
    "\n"
   ]
  },
  {
   "cell_type": "code",
   "execution_count": null,
   "metadata": {},
   "outputs": [],
   "source": []
  }
 ],
 "metadata": {
  "kernelspec": {
   "display_name": "Python 3 (ipykernel)",
   "language": "python",
   "name": "python3"
  },
  "language_info": {
   "codemirror_mode": {
    "name": "ipython",
    "version": 3
   },
   "file_extension": ".py",
   "mimetype": "text/x-python",
   "name": "python",
   "nbconvert_exporter": "python",
   "pygments_lexer": "ipython3",
   "version": "3.9.13"
  }
 },
 "nbformat": 4,
 "nbformat_minor": 1
}
