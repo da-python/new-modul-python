{
 "cells": [
  {
   "cell_type": "markdown",
   "metadata": {},
   "source": [
    "<a target=\"_blank\" href=\"https://colab.research.google.com/github/da-python/new-modul-python/blob/main/Lesson3/hometask/SyntheticRubber.ipynb\">\n",
    "  <img src=\"https://colab.research.google.com/assets/colab-badge.svg\" alt=\"Open In Colab\"/>\n",
    "</a>"
   ]
  },
  {
   "cell_type": "code",
   "execution_count": null,
   "metadata": {},
   "outputs": [],
   "source": [
    "# !pip install yfinance"
   ]
  },
  {
   "cell_type": "code",
   "execution_count": 6,
   "metadata": {},
   "outputs": [],
   "source": [
    "import yfinance as yf\n",
    "import pandas as pd\n",
    "import requests"
   ]
  },
  {
   "cell_type": "code",
   "execution_count": 3,
   "metadata": {},
   "outputs": [],
   "source": [
    "crude_oil_ticker = \"CL=F\"\n",
    "crude_oil = yf.Ticker(crude_oil_ticker)\n",
    "hist = crude_oil.history()"
   ]
  },
  {
   "cell_type": "code",
   "execution_count": 4,
   "metadata": {},
   "outputs": [
    {
     "name": "stdout",
     "output_type": "stream",
     "text": [
      "[*********************100%***********************]  1 of 1 completed\n"
     ]
    }
   ],
   "source": [
    "data = yf.download(crude_oil_ticker)"
   ]
  },
  {
   "cell_type": "markdown",
   "metadata": {},
   "source": [
    "# Задание 1.\n",
    "\n",
    "* Вы - менеджер по продажам в нефтехимической компании. Вы ведете несколько ключевых клиентов, которые закупают продукты вашей компании. Ваша компания запускает новый продукт - \"Синтетический каучук\" (СК), который по своим свойствам похож на тот, что уже есть на рынке. Ваши клиенты предпочитают формульный подход к ценообразованию. Вам нужно предложить клиентам формулу расчета цены на СК. В зависимости от объемов, которые покупают клиенты, им может быть предложена скидка.\n",
    "\n",
    "\n",
    "* СК производиться из нефти. Один из известных способов производства предполагает, что из 10 баррелей нефти сделают одну тонну СК, а затраты на производство в районе 400 евро."
   ]
  },
  {
   "cell_type": "code",
   "execution_count": 1,
   "metadata": {},
   "outputs": [],
   "source": [
    "\n",
    "# Затраты на производство\n",
    "PRODUCTION_COST = 400 # (EUR)\n",
    "\n",
    "# Расходы на логистику\n",
    "EU_LOGISTIC_COST_EUR = 30 # в Европу в евро\n",
    "CN_LOGISTIC_COST_USD = 130 # в Китай в долларах\n",
    "\n",
    "# * Справочная информация по клиентам(объемы, локации, комментарии) \n",
    "customers = {\n",
    "    'Сonty':{\n",
    "        'location':'EU',\n",
    "        'volumes':200,\n",
    "        'comment':'moving_average'\n",
    "    },\n",
    "    \n",
    "    'Triangle':{\n",
    "        'location':'CN',\n",
    "        'volumes': 30,\n",
    "        'comment': 'monthly'\n",
    "    },\n",
    "    'Stone':{\n",
    "        'location':'EU',\n",
    "        'volumes': 150,\n",
    "        'comment': 'moving_average'\n",
    "    },\n",
    "    'Ant':{\n",
    "        'location':'EU',\n",
    "        'volumes': 70,\n",
    "        'comment': 'monthly'\n",
    "    }\n",
    "}\n",
    "# Скидки\n",
    "discounts = {'99': 0.01, # до 100 тонн 1%\n",
    "             '299': 0.05, #  до 300 тонн 5%\n",
    "             '300': 0.1}   # больше 300 тонн 10%\n"
   ]
  },
  {
   "cell_type": "markdown",
   "metadata": {},
   "source": [
    "### Что нужно сделать?\n",
    "\n",
    "1. Определить базовую формулу цены на заводе. То есть как бы выглядела цена на исторических данных. \n",
    "* Важно, чтобы цена покрывала расходы на производство и при этом была в рынке, то есть на уровне натурального каучука или с небольшим дисконтом, котировки на который можно взять с сайта http://www3.lgm.gov.my/mre/MonthlyPrices.aspx (в центах за килограм). Можно перевести в доллары за тонну.\n",
    "2. Отобразить на графике.\n",
    "3. Сделать расчет возможной цены по формуле для каждого из клиентов на условиях DDP (цена с доставкой). Записать все в один эксель файл, на разных листах. Каждый лист - название клиента.\n",
    "4. Предложить формулу цены каждому из клиентов на условиях DDP (цена с доставкой).\n",
    "- Создать директорию «для клиентов» и в ней сложить  файлы с расчетами.\n",
    "- Каждый клиент - отдельный файл (любой из docx, xlsx, pptx, pdf)  с именем клиента… \n",
    "\n"
   ]
  },
  {
   "cell_type": "code",
   "execution_count": 8,
   "metadata": {},
   "outputs": [
    {
     "data": {
      "text/html": [
       "<div>\n",
       "<style scoped>\n",
       "    .dataframe tbody tr th:only-of-type {\n",
       "        vertical-align: middle;\n",
       "    }\n",
       "\n",
       "    .dataframe tbody tr th {\n",
       "        vertical-align: top;\n",
       "    }\n",
       "\n",
       "    .dataframe thead th {\n",
       "        text-align: right;\n",
       "    }\n",
       "</style>\n",
       "<table border=\"1\" class=\"dataframe\">\n",
       "  <thead>\n",
       "    <tr style=\"text-align: right;\">\n",
       "      <th></th>\n",
       "      <th>date</th>\n",
       "      <th>grade</th>\n",
       "      <th>masa</th>\n",
       "      <th>rm</th>\n",
       "      <th>us</th>\n",
       "      <th>tone</th>\n",
       "    </tr>\n",
       "  </thead>\n",
       "  <tbody>\n",
       "    <tr>\n",
       "      <th>0</th>\n",
       "      <td>2022-05-31</td>\n",
       "      <td>SMR CV</td>\n",
       "      <td>Noon</td>\n",
       "      <td>1157.50</td>\n",
       "      <td>269.20</td>\n",
       "      <td>Slightly steadier</td>\n",
       "    </tr>\n",
       "    <tr>\n",
       "      <th>1</th>\n",
       "      <td>2022-05-31</td>\n",
       "      <td>SMR L</td>\n",
       "      <td>Noon</td>\n",
       "      <td>1147.50</td>\n",
       "      <td>266.90</td>\n",
       "      <td>Slightly steadier</td>\n",
       "    </tr>\n",
       "    <tr>\n",
       "      <th>2</th>\n",
       "      <td>2022-05-31</td>\n",
       "      <td>SMR 5</td>\n",
       "      <td>Noon</td>\n",
       "      <td>740.00</td>\n",
       "      <td>172.10</td>\n",
       "      <td>Slightly steadier</td>\n",
       "    </tr>\n",
       "    <tr>\n",
       "      <th>3</th>\n",
       "      <td>2022-05-31</td>\n",
       "      <td>SMR GP</td>\n",
       "      <td>Noon</td>\n",
       "      <td>737.00</td>\n",
       "      <td>171.40</td>\n",
       "      <td>Slightly steadier</td>\n",
       "    </tr>\n",
       "    <tr>\n",
       "      <th>4</th>\n",
       "      <td>2022-05-31</td>\n",
       "      <td>SMR 10</td>\n",
       "      <td>Noon</td>\n",
       "      <td>730.00</td>\n",
       "      <td>169.80</td>\n",
       "      <td>Slightly steadier</td>\n",
       "    </tr>\n",
       "    <tr>\n",
       "      <th>5</th>\n",
       "      <td>2022-05-31</td>\n",
       "      <td>SMR 20</td>\n",
       "      <td>Noon</td>\n",
       "      <td>728.00</td>\n",
       "      <td>169.30</td>\n",
       "      <td>Slightly steadier</td>\n",
       "    </tr>\n",
       "    <tr>\n",
       "      <th>6</th>\n",
       "      <td>2022-05-31</td>\n",
       "      <td>Latex in Bulk</td>\n",
       "      <td>Noon</td>\n",
       "      <td>682.50</td>\n",
       "      <td>682.50</td>\n",
       "      <td>Slightly steadier</td>\n",
       "    </tr>\n",
       "    <tr>\n",
       "      <th>7</th>\n",
       "      <td>2022-05-30</td>\n",
       "      <td>SMR CV</td>\n",
       "      <td>Noon</td>\n",
       "      <td>1152.50</td>\n",
       "      <td>267.60</td>\n",
       "      <td>Steady</td>\n",
       "    </tr>\n",
       "    <tr>\n",
       "      <th>8</th>\n",
       "      <td>2022-05-30</td>\n",
       "      <td>SMR L</td>\n",
       "      <td>Noon</td>\n",
       "      <td>1142.50</td>\n",
       "      <td>265.25</td>\n",
       "      <td>Steady</td>\n",
       "    </tr>\n",
       "    <tr>\n",
       "      <th>9</th>\n",
       "      <td>2022-05-30</td>\n",
       "      <td>SMR 5</td>\n",
       "      <td>Noon</td>\n",
       "      <td>731.50</td>\n",
       "      <td>169.85</td>\n",
       "      <td>Steady</td>\n",
       "    </tr>\n",
       "  </tbody>\n",
       "</table>\n",
       "</div>"
      ],
      "text/plain": [
       "         date          grade  masa       rm      us               tone\n",
       "0  2022-05-31         SMR CV  Noon  1157.50  269.20  Slightly steadier\n",
       "1  2022-05-31          SMR L  Noon  1147.50  266.90  Slightly steadier\n",
       "2  2022-05-31          SMR 5  Noon   740.00  172.10  Slightly steadier\n",
       "3  2022-05-31         SMR GP  Noon   737.00  171.40  Slightly steadier\n",
       "4  2022-05-31         SMR 10  Noon   730.00  169.80  Slightly steadier\n",
       "5  2022-05-31         SMR 20  Noon   728.00  169.30  Slightly steadier\n",
       "6  2022-05-31  Latex in Bulk  Noon   682.50  682.50  Slightly steadier\n",
       "7  2022-05-30         SMR CV  Noon  1152.50  267.60             Steady\n",
       "8  2022-05-30          SMR L  Noon  1142.50  265.25             Steady\n",
       "9  2022-05-30          SMR 5  Noon   731.50  169.85             Steady"
      ]
     },
     "execution_count": 8,
     "metadata": {},
     "output_type": "execute_result"
    }
   ],
   "source": [
    "# Котировки натурального каучука доступны на сайте,  https://www.lgm.gov.my\n",
    "# также у них есть API, пример запроса ниже\n",
    "#\n",
    "year = '2022'\n",
    "month = '05'\n",
    "url = f\"https://www.lgm.gov.my/webv2api/api/rubberprice/month={month}&year={year}\"\n",
    "res = requests.get(url)\n",
    "rj = res.json()\n",
    "df = pd.json_normalize(rj)\n",
    "df.head(10)"
   ]
  },
  {
   "cell_type": "markdown",
   "metadata": {},
   "source": [
    "# Задание 2"
   ]
  },
  {
   "cell_type": "markdown",
   "metadata": {},
   "source": [
    "Клиенты согласились на ваше предложение. \n",
    "Вам нужно сделать написать скрипт, с помощью которого можно автоматом рассчитывать цены для всех клиентов одновременно. \n",
    "Важный момент: данные для расчета скрипт должен подтягивать сам."
   ]
  },
  {
   "cell_type": "code",
   "execution_count": 3,
   "metadata": {},
   "outputs": [],
   "source": [
    "# "
   ]
  },
  {
   "cell_type": "markdown",
   "metadata": {},
   "source": [
    "# Задание 3\n",
    "\n",
    "К вам пришел новый клиент из России. Который использует продукт А и готов регулярно закупать СК для того, чтобы не быть привязанным к одному поставщику. Клиент готов забирать СК с завода самостоятельно.\n",
    "На основе тех данных, которые уже есть предложите цену новому клиенту в рублях. \n",
    "\n"
   ]
  },
  {
   "cell_type": "code",
   "execution_count": 4,
   "metadata": {},
   "outputs": [],
   "source": [
    "#"
   ]
  },
  {
   "cell_type": "code",
   "execution_count": null,
   "metadata": {},
   "outputs": [],
   "source": []
  }
 ],
 "metadata": {
  "kernelspec": {
   "display_name": "Python 3 (ipykernel)",
   "language": "python",
   "name": "python3"
  },
  "language_info": {
   "codemirror_mode": {
    "name": "ipython",
    "version": 3
   },
   "file_extension": ".py",
   "mimetype": "text/x-python",
   "name": "python",
   "nbconvert_exporter": "python",
   "pygments_lexer": "ipython3",
   "version": "3.9.13"
  }
 },
 "nbformat": 4,
 "nbformat_minor": 2
}
